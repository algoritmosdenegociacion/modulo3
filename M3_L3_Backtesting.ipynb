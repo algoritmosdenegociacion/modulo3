{
  "nbformat": 4,
  "nbformat_minor": 0,
  "metadata": {
    "colab": {
      "name": "M3_L3_Backtesting.ipynb",
      "provenance": [],
      "collapsed_sections": [],
      "include_colab_link": true
    },
    "kernelspec": {
      "name": "python3",
      "display_name": "Python 3"
    },
    "language_info": {
      "name": "python"
    }
  },
  "cells": [
    {
      "cell_type": "markdown",
      "metadata": {
        "id": "view-in-github",
        "colab_type": "text"
      },
      "source": [
        "<a href=\"https://colab.research.google.com/github/algoritmosdenegociacion/modulo3/blob/main/M3_L3_Backtesting.ipynb\" target=\"_parent\"><img src=\"https://colab.research.google.com/assets/colab-badge.svg\" alt=\"Open In Colab\"/></a>"
      ]
    },
    {
      "cell_type": "markdown",
      "metadata": {
        "id": "HDMUuXGmB_q1"
      },
      "source": [
        "# Algoritmos de Negociación basados en Machine Learning - Módulo 3\n",
        "- Sergio Andrés Cabrales, Ph.D., Universidad de los Andes \n",
        "- Juan Pablo Cortés, T.A., Universidad de los Andes\n",
        "\n",
        "https://github.com/algoritmosdenegociacion/"
      ]
    },
    {
      "cell_type": "markdown",
      "metadata": {
        "id": "CSr9zTNECaPv"
      },
      "source": [
        "## 1. Carga de librerías, funciones y APIs necesarias.\n"
      ]
    },
    {
      "cell_type": "markdown",
      "metadata": {
        "id": "6zaoGOtoCjPq"
      },
      "source": [
        "#### 1.1. Se cargan las librerías necesarias"
      ]
    },
    {
      "cell_type": "code",
      "metadata": {
        "id": "cVO4GoZZCgc8"
      },
      "source": [
        "# Funciones numéricas adicionales\n",
        "import numpy as np\n",
        "\n",
        "# Lectura de datos y manejo de Data-sets\n",
        "import pandas as pd\n",
        "\n",
        "# Gráficos \n",
        "import matplotlib.pyplot as plt"
      ],
      "execution_count": null,
      "outputs": []
    },
    {
      "cell_type": "markdown",
      "metadata": {
        "id": "xLSEaV4vCacK"
      },
      "source": [
        "## 2. Obtención de datos históricos\n"
      ]
    },
    {
      "cell_type": "markdown",
      "metadata": {
        "id": "MwlYyvstUo32"
      },
      "source": [
        "#### 2.1. Se cargan los datos - FRED\n"
      ]
    },
    {
      "cell_type": "code",
      "metadata": {
        "id": "-QQfbsMyM7mS"
      },
      "source": [
        "# Importar datos de la FRED (Federal Reserve Economic Data) - Federal Reserve Bank of St. Louis\n",
        "import pandas_datareader as pdr"
      ],
      "execution_count": null,
      "outputs": []
    },
    {
      "cell_type": "markdown",
      "metadata": {
        "id": "1u8V8323CacL"
      },
      "source": [
        "https://fred.stlouisfed.org/"
      ]
    },
    {
      "cell_type": "code",
      "metadata": {
        "colab": {
          "base_uri": "https://localhost:8080/",
          "height": 450
        },
        "id": "dzncNzy8CacL",
        "outputId": "1f33a999-e906-4637-a4b1-6e7c2ef37bbf"
      },
      "source": [
        "# Descargamos datos de petróleo referencia BRENT\n",
        "# BRENT es DCOILBRENTEU\n",
        "# WTI es DCOILWTICO\n",
        "df = pdr.get_data_fred('DCOILBRENTEU', start='2016-01-01', end='2021-01-01')\n",
        "\n",
        "# Renombramos la columna como Close\n",
        "df.columns = ['Close']\n",
        "\n",
        "# Quitamos los datos vacíos\n",
        "df = df.dropna()\n",
        "\n",
        "df"
      ],
      "execution_count": null,
      "outputs": [
        {
          "output_type": "execute_result",
          "data": {
            "text/html": [
              "<div>\n",
              "<style scoped>\n",
              "    .dataframe tbody tr th:only-of-type {\n",
              "        vertical-align: middle;\n",
              "    }\n",
              "\n",
              "    .dataframe tbody tr th {\n",
              "        vertical-align: top;\n",
              "    }\n",
              "\n",
              "    .dataframe thead th {\n",
              "        text-align: right;\n",
              "    }\n",
              "</style>\n",
              "<table border=\"1\" class=\"dataframe\">\n",
              "  <thead>\n",
              "    <tr style=\"text-align: right;\">\n",
              "      <th></th>\n",
              "      <th>Close</th>\n",
              "    </tr>\n",
              "    <tr>\n",
              "      <th>DATE</th>\n",
              "      <th></th>\n",
              "    </tr>\n",
              "  </thead>\n",
              "  <tbody>\n",
              "    <tr>\n",
              "      <th>2016-01-04</th>\n",
              "      <td>36.28</td>\n",
              "    </tr>\n",
              "    <tr>\n",
              "      <th>2016-01-05</th>\n",
              "      <td>35.56</td>\n",
              "    </tr>\n",
              "    <tr>\n",
              "      <th>2016-01-06</th>\n",
              "      <td>33.89</td>\n",
              "    </tr>\n",
              "    <tr>\n",
              "      <th>2016-01-07</th>\n",
              "      <td>33.57</td>\n",
              "    </tr>\n",
              "    <tr>\n",
              "      <th>2016-01-08</th>\n",
              "      <td>31.67</td>\n",
              "    </tr>\n",
              "    <tr>\n",
              "      <th>...</th>\n",
              "      <td>...</td>\n",
              "    </tr>\n",
              "    <tr>\n",
              "      <th>2020-12-24</th>\n",
              "      <td>50.88</td>\n",
              "    </tr>\n",
              "    <tr>\n",
              "      <th>2020-12-28</th>\n",
              "      <td>50.88</td>\n",
              "    </tr>\n",
              "    <tr>\n",
              "      <th>2020-12-29</th>\n",
              "      <td>50.44</td>\n",
              "    </tr>\n",
              "    <tr>\n",
              "      <th>2020-12-30</th>\n",
              "      <td>50.74</td>\n",
              "    </tr>\n",
              "    <tr>\n",
              "      <th>2020-12-31</th>\n",
              "      <td>51.22</td>\n",
              "    </tr>\n",
              "  </tbody>\n",
              "</table>\n",
              "<p>1275 rows × 1 columns</p>\n",
              "</div>"
            ],
            "text/plain": [
              "            Close\n",
              "DATE             \n",
              "2016-01-04  36.28\n",
              "2016-01-05  35.56\n",
              "2016-01-06  33.89\n",
              "2016-01-07  33.57\n",
              "2016-01-08  31.67\n",
              "...           ...\n",
              "2020-12-24  50.88\n",
              "2020-12-28  50.88\n",
              "2020-12-29  50.44\n",
              "2020-12-30  50.74\n",
              "2020-12-31  51.22\n",
              "\n",
              "[1275 rows x 1 columns]"
            ]
          },
          "metadata": {},
          "execution_count": 3
        }
      ]
    },
    {
      "cell_type": "markdown",
      "metadata": {
        "id": "gtQQw1UDU8Rz"
      },
      "source": [
        "## 3. Calcular la media móvil exponencial (EMA)"
      ]
    },
    {
      "cell_type": "markdown",
      "metadata": {
        "id": "nhaz3owqFcwK"
      },
      "source": [
        "#### 3.1. Agregar al dataset las EMAs de 5 y 20 días"
      ]
    },
    {
      "cell_type": "code",
      "metadata": {
        "colab": {
          "base_uri": "https://localhost:8080/",
          "height": 450
        },
        "id": "zCO8cHZYPm_L",
        "outputId": "0b6dcff7-ce87-40cb-83eb-5cfc1424ad36"
      },
      "source": [
        "# media móvil exponencial (EMA) 5 días\n",
        "df['EMA_short'] = df['Close'].ewm(span=5, adjust=False).mean()\n",
        "\n",
        "# media móvil exponencial (EMA) 20 días\n",
        "df['EMA_long'] = df['Close'].ewm(span=20, adjust=False).mean()\n",
        "\n",
        "df"
      ],
      "execution_count": null,
      "outputs": [
        {
          "output_type": "execute_result",
          "data": {
            "text/html": [
              "<div>\n",
              "<style scoped>\n",
              "    .dataframe tbody tr th:only-of-type {\n",
              "        vertical-align: middle;\n",
              "    }\n",
              "\n",
              "    .dataframe tbody tr th {\n",
              "        vertical-align: top;\n",
              "    }\n",
              "\n",
              "    .dataframe thead th {\n",
              "        text-align: right;\n",
              "    }\n",
              "</style>\n",
              "<table border=\"1\" class=\"dataframe\">\n",
              "  <thead>\n",
              "    <tr style=\"text-align: right;\">\n",
              "      <th></th>\n",
              "      <th>Close</th>\n",
              "      <th>EMA_short</th>\n",
              "      <th>EMA_long</th>\n",
              "    </tr>\n",
              "    <tr>\n",
              "      <th>DATE</th>\n",
              "      <th></th>\n",
              "      <th></th>\n",
              "      <th></th>\n",
              "    </tr>\n",
              "  </thead>\n",
              "  <tbody>\n",
              "    <tr>\n",
              "      <th>2016-01-04</th>\n",
              "      <td>36.28</td>\n",
              "      <td>36.280000</td>\n",
              "      <td>36.280000</td>\n",
              "    </tr>\n",
              "    <tr>\n",
              "      <th>2016-01-05</th>\n",
              "      <td>35.56</td>\n",
              "      <td>36.040000</td>\n",
              "      <td>36.211429</td>\n",
              "    </tr>\n",
              "    <tr>\n",
              "      <th>2016-01-06</th>\n",
              "      <td>33.89</td>\n",
              "      <td>35.323333</td>\n",
              "      <td>35.990340</td>\n",
              "    </tr>\n",
              "    <tr>\n",
              "      <th>2016-01-07</th>\n",
              "      <td>33.57</td>\n",
              "      <td>34.738889</td>\n",
              "      <td>35.759832</td>\n",
              "    </tr>\n",
              "    <tr>\n",
              "      <th>2016-01-08</th>\n",
              "      <td>31.67</td>\n",
              "      <td>33.715926</td>\n",
              "      <td>35.370324</td>\n",
              "    </tr>\n",
              "    <tr>\n",
              "      <th>...</th>\n",
              "      <td>...</td>\n",
              "      <td>...</td>\n",
              "      <td>...</td>\n",
              "    </tr>\n",
              "    <tr>\n",
              "      <th>2020-12-24</th>\n",
              "      <td>50.88</td>\n",
              "      <td>50.792761</td>\n",
              "      <td>49.228966</td>\n",
              "    </tr>\n",
              "    <tr>\n",
              "      <th>2020-12-28</th>\n",
              "      <td>50.88</td>\n",
              "      <td>50.821840</td>\n",
              "      <td>49.386208</td>\n",
              "    </tr>\n",
              "    <tr>\n",
              "      <th>2020-12-29</th>\n",
              "      <td>50.44</td>\n",
              "      <td>50.694560</td>\n",
              "      <td>49.486569</td>\n",
              "    </tr>\n",
              "    <tr>\n",
              "      <th>2020-12-30</th>\n",
              "      <td>50.74</td>\n",
              "      <td>50.709707</td>\n",
              "      <td>49.605943</td>\n",
              "    </tr>\n",
              "    <tr>\n",
              "      <th>2020-12-31</th>\n",
              "      <td>51.22</td>\n",
              "      <td>50.879805</td>\n",
              "      <td>49.759663</td>\n",
              "    </tr>\n",
              "  </tbody>\n",
              "</table>\n",
              "<p>1275 rows × 3 columns</p>\n",
              "</div>"
            ],
            "text/plain": [
              "            Close  EMA_short   EMA_long\n",
              "DATE                                   \n",
              "2016-01-04  36.28  36.280000  36.280000\n",
              "2016-01-05  35.56  36.040000  36.211429\n",
              "2016-01-06  33.89  35.323333  35.990340\n",
              "2016-01-07  33.57  34.738889  35.759832\n",
              "2016-01-08  31.67  33.715926  35.370324\n",
              "...           ...        ...        ...\n",
              "2020-12-24  50.88  50.792761  49.228966\n",
              "2020-12-28  50.88  50.821840  49.386208\n",
              "2020-12-29  50.44  50.694560  49.486569\n",
              "2020-12-30  50.74  50.709707  49.605943\n",
              "2020-12-31  51.22  50.879805  49.759663\n",
              "\n",
              "[1275 rows x 3 columns]"
            ]
          },
          "metadata": {},
          "execution_count": 4
        }
      ]
    },
    {
      "cell_type": "markdown",
      "metadata": {
        "id": "ct64DabuFq_A"
      },
      "source": [
        "#### 3.2. Gráfico de los precios y las EMAs"
      ]
    },
    {
      "cell_type": "code",
      "metadata": {
        "colab": {
          "base_uri": "https://localhost:8080/",
          "height": 457
        },
        "id": "tL0AOZ5bSXuv",
        "outputId": "58f3f504-1f7a-4faf-b90a-7b1fde473df4"
      },
      "source": [
        "# Gráfico de la serie de precios y sus medias móviles exponenciales.\n",
        "plt.figure(figsize=(16,8))\n",
        "plt.title('BRENT OIL, EMA-5 & EMA-20 days')\n",
        "plt.plot(df['Close'])\n",
        "plt.plot(df['EMA_short'], color='green', alpha=0.4)\n",
        "plt.plot(df['EMA_long'], color='red', alpha=0.4)\n",
        "plt.xlabel('Fecha')\n",
        "plt.ylabel('USD$/bbl')\n",
        "plt.legend(['Close', 'EMA_short', 'EMA_long'], loc = 'lower right')\n",
        "plt.show()"
      ],
      "execution_count": null,
      "outputs": [
        {
          "output_type": "display_data",
          "data": {
            "image/png": "[encoded data removed]",
            "text/plain": [
              "<Figure size 1152x576 with 1 Axes>"
            ]
          },
          "metadata": {
            "needs_background": "light"
          }
        }
      ]
    },
    {
      "cell_type": "markdown",
      "metadata": {
        "id": "5ZbTzdufVP7O"
      },
      "source": [
        "## 4. Obtención de señales de compra y venta"
      ]
    },
    {
      "cell_type": "markdown",
      "metadata": {
        "id": "lf9X8TsuFRd6"
      },
      "source": [
        "#### 4.1. Estrategia para obtener las señales"
      ]
    },
    {
      "cell_type": "code",
      "metadata": {
        "colab": {
          "base_uri": "https://localhost:8080/",
          "height": 450
        },
        "id": "Xa4Xuji_QBNk",
        "outputId": "a0c5377b-6ef3-4c5b-cd54-1ad9e5dba23f"
      },
      "source": [
        "# Número de datos\n",
        "N = len(df)\n",
        "\n",
        "# Crea una lista para almacenar las señales\n",
        "  # -1 vender\n",
        "  # 0 mantener\n",
        "  # 1 comprar\n",
        "signals = [0]\n",
        "\n",
        "# Recorre la ventana de tiempo a partir del día 1\n",
        "for i in range(1, N):\n",
        "\n",
        "  # Obtiene las medias móviles exponenciales del día i\n",
        "  short = df['EMA_short'][i]\n",
        "  long = df['EMA_long'][i]\n",
        "\n",
        "  # Obtiene las medias móviles exponenciales del día i-1\n",
        "  p_short = df['EMA_short'][i-1]\n",
        "  p_long = df['EMA_long'][i-1]\n",
        "\n",
        "  # Compruebe si la EMA a corto plazo cruza por encima de la EMA a largo plazo\n",
        "  if p_short < p_long and short >= long:\n",
        "    signals.append(1)\n",
        "\n",
        "  # Compruebe si la EMA a corto plazo cruza por debajo de la EMA a largo plazo\n",
        "  elif p_short > p_long and short <= long:\n",
        "    signals.append(-1)\n",
        "\n",
        "  # Cuando las medias móviles exponenciales no se cruzan\n",
        "  else:\n",
        "    signals.append(0)\n",
        "\n",
        "df['Signals'] = signals\n",
        "df"
      ],
      "execution_count": null,
      "outputs": [
        {
          "output_type": "execute_result",
          "data": {
            "text/html": [
              "<div>\n",
              "<style scoped>\n",
              "    .dataframe tbody tr th:only-of-type {\n",
              "        vertical-align: middle;\n",
              "    }\n",
              "\n",
              "    .dataframe tbody tr th {\n",
              "        vertical-align: top;\n",
              "    }\n",
              "\n",
              "    .dataframe thead th {\n",
              "        text-align: right;\n",
              "    }\n",
              "</style>\n",
              "<table border=\"1\" class=\"dataframe\">\n",
              "  <thead>\n",
              "    <tr style=\"text-align: right;\">\n",
              "      <th></th>\n",
              "      <th>Close</th>\n",
              "      <th>EMA_short</th>\n",
              "      <th>EMA_long</th>\n",
              "      <th>Signals</th>\n",
              "    </tr>\n",
              "    <tr>\n",
              "      <th>DATE</th>\n",
              "      <th></th>\n",
              "      <th></th>\n",
              "      <th></th>\n",
              "      <th></th>\n",
              "    </tr>\n",
              "  </thead>\n",
              "  <tbody>\n",
              "    <tr>\n",
              "      <th>2016-01-04</th>\n",
              "      <td>36.28</td>\n",
              "      <td>36.280000</td>\n",
              "      <td>36.280000</td>\n",
              "      <td>0</td>\n",
              "    </tr>\n",
              "    <tr>\n",
              "      <th>2016-01-05</th>\n",
              "      <td>35.56</td>\n",
              "      <td>36.040000</td>\n",
              "      <td>36.211429</td>\n",
              "      <td>0</td>\n",
              "    </tr>\n",
              "    <tr>\n",
              "      <th>2016-01-06</th>\n",
              "      <td>33.89</td>\n",
              "      <td>35.323333</td>\n",
              "      <td>35.990340</td>\n",
              "      <td>0</td>\n",
              "    </tr>\n",
              "    <tr>\n",
              "      <th>2016-01-07</th>\n",
              "      <td>33.57</td>\n",
              "      <td>34.738889</td>\n",
              "      <td>35.759832</td>\n",
              "      <td>0</td>\n",
              "    </tr>\n",
              "    <tr>\n",
              "      <th>2016-01-08</th>\n",
              "      <td>31.67</td>\n",
              "      <td>33.715926</td>\n",
              "      <td>35.370324</td>\n",
              "      <td>0</td>\n",
              "    </tr>\n",
              "    <tr>\n",
              "      <th>...</th>\n",
              "      <td>...</td>\n",
              "      <td>...</td>\n",
              "      <td>...</td>\n",
              "      <td>...</td>\n",
              "    </tr>\n",
              "    <tr>\n",
              "      <th>2020-12-24</th>\n",
              "      <td>50.88</td>\n",
              "      <td>50.792761</td>\n",
              "      <td>49.228966</td>\n",
              "      <td>0</td>\n",
              "    </tr>\n",
              "    <tr>\n",
              "      <th>2020-12-28</th>\n",
              "      <td>50.88</td>\n",
              "      <td>50.821840</td>\n",
              "      <td>49.386208</td>\n",
              "      <td>0</td>\n",
              "    </tr>\n",
              "    <tr>\n",
              "      <th>2020-12-29</th>\n",
              "      <td>50.44</td>\n",
              "      <td>50.694560</td>\n",
              "      <td>49.486569</td>\n",
              "      <td>0</td>\n",
              "    </tr>\n",
              "    <tr>\n",
              "      <th>2020-12-30</th>\n",
              "      <td>50.74</td>\n",
              "      <td>50.709707</td>\n",
              "      <td>49.605943</td>\n",
              "      <td>0</td>\n",
              "    </tr>\n",
              "    <tr>\n",
              "      <th>2020-12-31</th>\n",
              "      <td>51.22</td>\n",
              "      <td>50.879805</td>\n",
              "      <td>49.759663</td>\n",
              "      <td>0</td>\n",
              "    </tr>\n",
              "  </tbody>\n",
              "</table>\n",
              "<p>1275 rows × 4 columns</p>\n",
              "</div>"
            ],
            "text/plain": [
              "            Close  EMA_short   EMA_long  Signals\n",
              "DATE                                            \n",
              "2016-01-04  36.28  36.280000  36.280000        0\n",
              "2016-01-05  35.56  36.040000  36.211429        0\n",
              "2016-01-06  33.89  35.323333  35.990340        0\n",
              "2016-01-07  33.57  34.738889  35.759832        0\n",
              "2016-01-08  31.67  33.715926  35.370324        0\n",
              "...           ...        ...        ...      ...\n",
              "2020-12-24  50.88  50.792761  49.228966        0\n",
              "2020-12-28  50.88  50.821840  49.386208        0\n",
              "2020-12-29  50.44  50.694560  49.486569        0\n",
              "2020-12-30  50.74  50.709707  49.605943        0\n",
              "2020-12-31  51.22  50.879805  49.759663        0\n",
              "\n",
              "[1275 rows x 4 columns]"
            ]
          },
          "metadata": {},
          "execution_count": 6
        }
      ]
    },
    {
      "cell_type": "markdown",
      "metadata": {
        "id": "z4Ml-E95F95i"
      },
      "source": [
        "#### 4.2. Gráfico de las señales de trading"
      ]
    },
    {
      "cell_type": "code",
      "metadata": {
        "colab": {
          "base_uri": "https://localhost:8080/",
          "height": 450
        },
        "id": "lZF1JkRBGE6B",
        "outputId": "6c7cb879-34be-4518-ac6d-87720a5a5f72"
      },
      "source": [
        "df['Buy'] = np.where(df['Signals']==1, df['Close'], np.nan)\n",
        "df['Sell'] = np.where(df['Signals']==-1, df['Close'], np.nan)\n",
        "df"
      ],
      "execution_count": null,
      "outputs": [
        {
          "output_type": "execute_result",
          "data": {
            "text/html": [
              "<div>\n",
              "<style scoped>\n",
              "    .dataframe tbody tr th:only-of-type {\n",
              "        vertical-align: middle;\n",
              "    }\n",
              "\n",
              "    .dataframe tbody tr th {\n",
              "        vertical-align: top;\n",
              "    }\n",
              "\n",
              "    .dataframe thead th {\n",
              "        text-align: right;\n",
              "    }\n",
              "</style>\n",
              "<table border=\"1\" class=\"dataframe\">\n",
              "  <thead>\n",
              "    <tr style=\"text-align: right;\">\n",
              "      <th></th>\n",
              "      <th>Close</th>\n",
              "      <th>EMA_short</th>\n",
              "      <th>EMA_long</th>\n",
              "      <th>Signals</th>\n",
              "      <th>Buy</th>\n",
              "      <th>Sell</th>\n",
              "    </tr>\n",
              "    <tr>\n",
              "      <th>DATE</th>\n",
              "      <th></th>\n",
              "      <th></th>\n",
              "      <th></th>\n",
              "      <th></th>\n",
              "      <th></th>\n",
              "      <th></th>\n",
              "    </tr>\n",
              "  </thead>\n",
              "  <tbody>\n",
              "    <tr>\n",
              "      <th>2016-01-04</th>\n",
              "      <td>36.28</td>\n",
              "      <td>36.280000</td>\n",
              "      <td>36.280000</td>\n",
              "      <td>0</td>\n",
              "      <td>NaN</td>\n",
              "      <td>NaN</td>\n",
              "    </tr>\n",
              "    <tr>\n",
              "      <th>2016-01-05</th>\n",
              "      <td>35.56</td>\n",
              "      <td>36.040000</td>\n",
              "      <td>36.211429</td>\n",
              "      <td>0</td>\n",
              "      <td>NaN</td>\n",
              "      <td>NaN</td>\n",
              "    </tr>\n",
              "    <tr>\n",
              "      <th>2016-01-06</th>\n",
              "      <td>33.89</td>\n",
              "      <td>35.323333</td>\n",
              "      <td>35.990340</td>\n",
              "      <td>0</td>\n",
              "      <td>NaN</td>\n",
              "      <td>NaN</td>\n",
              "    </tr>\n",
              "    <tr>\n",
              "      <th>2016-01-07</th>\n",
              "      <td>33.57</td>\n",
              "      <td>34.738889</td>\n",
              "      <td>35.759832</td>\n",
              "      <td>0</td>\n",
              "      <td>NaN</td>\n",
              "      <td>NaN</td>\n",
              "    </tr>\n",
              "    <tr>\n",
              "      <th>2016-01-08</th>\n",
              "      <td>31.67</td>\n",
              "      <td>33.715926</td>\n",
              "      <td>35.370324</td>\n",
              "      <td>0</td>\n",
              "      <td>NaN</td>\n",
              "      <td>NaN</td>\n",
              "    </tr>\n",
              "    <tr>\n",
              "      <th>...</th>\n",
              "      <td>...</td>\n",
              "      <td>...</td>\n",
              "      <td>...</td>\n",
              "      <td>...</td>\n",
              "      <td>...</td>\n",
              "      <td>...</td>\n",
              "    </tr>\n",
              "    <tr>\n",
              "      <th>2020-12-24</th>\n",
              "      <td>50.88</td>\n",
              "      <td>50.792761</td>\n",
              "      <td>49.228966</td>\n",
              "      <td>0</td>\n",
              "      <td>NaN</td>\n",
              "      <td>NaN</td>\n",
              "    </tr>\n",
              "    <tr>\n",
              "      <th>2020-12-28</th>\n",
              "      <td>50.88</td>\n",
              "      <td>50.821840</td>\n",
              "      <td>49.386208</td>\n",
              "      <td>0</td>\n",
              "      <td>NaN</td>\n",
              "      <td>NaN</td>\n",
              "    </tr>\n",
              "    <tr>\n",
              "      <th>2020-12-29</th>\n",
              "      <td>50.44</td>\n",
              "      <td>50.694560</td>\n",
              "      <td>49.486569</td>\n",
              "      <td>0</td>\n",
              "      <td>NaN</td>\n",
              "      <td>NaN</td>\n",
              "    </tr>\n",
              "    <tr>\n",
              "      <th>2020-12-30</th>\n",
              "      <td>50.74</td>\n",
              "      <td>50.709707</td>\n",
              "      <td>49.605943</td>\n",
              "      <td>0</td>\n",
              "      <td>NaN</td>\n",
              "      <td>NaN</td>\n",
              "    </tr>\n",
              "    <tr>\n",
              "      <th>2020-12-31</th>\n",
              "      <td>51.22</td>\n",
              "      <td>50.879805</td>\n",
              "      <td>49.759663</td>\n",
              "      <td>0</td>\n",
              "      <td>NaN</td>\n",
              "      <td>NaN</td>\n",
              "    </tr>\n",
              "  </tbody>\n",
              "</table>\n",
              "<p>1275 rows × 6 columns</p>\n",
              "</div>"
            ],
            "text/plain": [
              "            Close  EMA_short   EMA_long  Signals  Buy  Sell\n",
              "DATE                                                       \n",
              "2016-01-04  36.28  36.280000  36.280000        0  NaN   NaN\n",
              "2016-01-05  35.56  36.040000  36.211429        0  NaN   NaN\n",
              "2016-01-06  33.89  35.323333  35.990340        0  NaN   NaN\n",
              "2016-01-07  33.57  34.738889  35.759832        0  NaN   NaN\n",
              "2016-01-08  31.67  33.715926  35.370324        0  NaN   NaN\n",
              "...           ...        ...        ...      ...  ...   ...\n",
              "2020-12-24  50.88  50.792761  49.228966        0  NaN   NaN\n",
              "2020-12-28  50.88  50.821840  49.386208        0  NaN   NaN\n",
              "2020-12-29  50.44  50.694560  49.486569        0  NaN   NaN\n",
              "2020-12-30  50.74  50.709707  49.605943        0  NaN   NaN\n",
              "2020-12-31  51.22  50.879805  49.759663        0  NaN   NaN\n",
              "\n",
              "[1275 rows x 6 columns]"
            ]
          },
          "metadata": {},
          "execution_count": 7
        }
      ]
    },
    {
      "cell_type": "code",
      "metadata": {
        "colab": {
          "base_uri": "https://localhost:8080/",
          "height": 457
        },
        "id": "0bhHqVTdPljP",
        "outputId": "1cfc59fe-ae18-47a5-f734-ed118bab56ff"
      },
      "source": [
        "# Mostrar visualmente las señales de compra y venta de acciones\n",
        "plt.figure(figsize=(16,8))\n",
        "plt.plot(df['Close'], alpha = 0.4, label = 'Precios')\n",
        "\n",
        "plt.scatter(df.index, df['Buy'], color='green', marker='^', label = 'Compra')\n",
        "plt.scatter(df.index, df['Sell'], color = 'red', marker='v', label = 'Venta')\n",
        "\n",
        "plt.title('Señales de compra y venta, EMA-5 & EMA-20')\n",
        "plt.xlabel('Fecha')\n",
        "plt.ylabel('Precio USD/bbl')\n",
        "plt.legend(loc='upper left')\n",
        "plt.show()"
      ],
      "execution_count": null,
      "outputs": [
        {
          "output_type": "display_data",
          "data": {
            "image/png": "[encoded data removed]",
            "text/plain": [
              "<Figure size 1152x576 with 1 Axes>"
            ]
          },
          "metadata": {
            "needs_background": "light"
          }
        }
      ]
    },
    {
      "cell_type": "markdown",
      "metadata": {
        "id": "3C7R7OdiGbca"
      },
      "source": [
        "## 5. Backtesting - Calcular el desempeño de una estrategia"
      ]
    },
    {
      "cell_type": "markdown",
      "metadata": {
        "id": "zZCmMnZ4Zv9p"
      },
      "source": [
        "#### 5.1. Cálculo de capital a lo largo de la venta de tiempo"
      ]
    },
    {
      "cell_type": "code",
      "metadata": {
        "id": "On59u_WhGYY_"
      },
      "source": [
        "# Número de datos\n",
        "N = len(df)\n",
        "\n",
        "# Crea una lista para almacenar el capital\n",
        "# Emezamos con 100 USD\n",
        "equity = [100]\n",
        "\n",
        "# Take Profit al 3% y Stop Loss al 1%\n",
        "TP = 0.03\n",
        "SL = 0.01\n",
        "\n",
        "pos = 0\n",
        "price = -1\n",
        "\n",
        "# Recorre la ventana de tiempo a partir del día 1\n",
        "for i in range(1, N):\n",
        "  \n",
        "  equity.append( equity[i-1] )\n",
        "\n",
        "  if pos == 1:\n",
        "    \n",
        "    if df['Close'][i] >= price*(1 + TP):\n",
        "      equity[i] *= 1 + TP\n",
        "      pos = 0\n",
        "    \n",
        "    elif df['Close'][i] <= price*(1 - SL):\n",
        "      equity[i] *= 1 - SL\n",
        "      pos = 0\n",
        "\n",
        "  elif pos == -1:\n",
        "\n",
        "    if df['Close'][i] <= price*(1 - TP):\n",
        "      equity[i] *= 1 + TP\n",
        "      pos = 0\n",
        "    \n",
        "    elif df['Close'][i] >= price*(1 + SL):\n",
        "      equity[i] *= 1 - SL\n",
        "      pos = 0\n",
        "\n",
        "  else:\n",
        "\n",
        "    if df['Signals'][i] != 0:\n",
        "      pos = df['Signals'][i]\n",
        "      price = df['Close'][i]\n",
        "\n",
        "df['Equity'] = equity\n"
      ],
      "execution_count": null,
      "outputs": []
    },
    {
      "cell_type": "markdown",
      "metadata": {
        "id": "x4KTqWfiZ4Tx"
      },
      "source": [
        "#### 5.2. Gráfico del capital"
      ]
    },
    {
      "cell_type": "code",
      "metadata": {
        "colab": {
          "base_uri": "https://localhost:8080/",
          "height": 454
        },
        "id": "77mvALXgVWJ9",
        "outputId": "5b35098f-61eb-40a3-996f-1df082bd81fd"
      },
      "source": [
        "# Mostrar visualmente el equity a lo largo de la ventana de tiempo\n",
        "plt.figure(figsize=(16,8))\n",
        "plt.plot(df['Equity'])\n",
        "\n",
        "plt.title('Capital - Estrategia de medias móviles exponenciales')\n",
        "plt.xlabel('Fecha')\n",
        "plt.ylabel('USD ($)')\n",
        "plt.show()"
      ],
      "execution_count": null,
      "outputs": [
        {
          "output_type": "display_data",
          "data": {
            "image/png": "[encoded data removed]",
            "text/plain": [
              "<Figure size 1152x576 with 1 Axes>"
            ]
          },
          "metadata": {
            "needs_background": "light"
          }
        }
      ]
    },
    {
      "cell_type": "markdown",
      "metadata": {
        "id": "BOW_qn-eaCAc"
      },
      "source": [
        "#### 5.3. Comparación con un portafolio de mercado"
      ]
    },
    {
      "cell_type": "code",
      "metadata": {
        "colab": {
          "base_uri": "https://localhost:8080/"
        },
        "id": "DNYaVWhiVjFn",
        "outputId": "aa6a7225-aab2-4bdf-81ae-a5eb28656939"
      },
      "source": [
        "pip install yfinance"
      ],
      "execution_count": null,
      "outputs": [
        {
          "output_type": "stream",
          "name": "stdout",
          "text": [
            "Collecting yfinance\n",
            "  Downloading yfinance-0.1.63.tar.gz (26 kB)\n",
            "Requirement already satisfied: pandas>=0.24 in /usr/local/lib/python3.7/dist-packages (from yfinance) (1.1.5)\n",
            "Requirement already satisfied: numpy>=1.15 in /usr/local/lib/python3.7/dist-packages (from yfinance) (1.19.5)\n",
            "Requirement already satisfied: requests>=2.20 in /usr/local/lib/python3.7/dist-packages (from yfinance) (2.23.0)\n",
            "Requirement already satisfied: multitasking>=0.0.7 in /usr/local/lib/python3.7/dist-packages (from yfinance) (0.0.9)\n",
            "Collecting lxml>=4.5.1\n",
            "  Downloading lxml-4.6.3-cp37-cp37m-manylinux2014_x86_64.whl (6.3 MB)\n",
            "\u001b[K     |████████████████████████████████| 6.3 MB 7.6 MB/s \n",
            "\u001b[?25hRequirement already satisfied: python-dateutil>=2.7.3 in /usr/local/lib/python3.7/dist-packages (from pandas>=0.24->yfinance) (2.8.2)\n",
            "Requirement already satisfied: pytz>=2017.2 in /usr/local/lib/python3.7/dist-packages (from pandas>=0.24->yfinance) (2018.9)\n",
            "Requirement already satisfied: six>=1.5 in /usr/local/lib/python3.7/dist-packages (from python-dateutil>=2.7.3->pandas>=0.24->yfinance) (1.15.0)\n",
            "Requirement already satisfied: certifi>=2017.4.17 in /usr/local/lib/python3.7/dist-packages (from requests>=2.20->yfinance) (2021.5.30)\n",
            "Requirement already satisfied: chardet<4,>=3.0.2 in /usr/local/lib/python3.7/dist-packages (from requests>=2.20->yfinance) (3.0.4)\n",
            "Requirement already satisfied: urllib3!=1.25.0,!=1.25.1,<1.26,>=1.21.1 in /usr/local/lib/python3.7/dist-packages (from requests>=2.20->yfinance) (1.24.3)\n",
            "Requirement already satisfied: idna<3,>=2.5 in /usr/local/lib/python3.7/dist-packages (from requests>=2.20->yfinance) (2.10)\n",
            "Building wheels for collected packages: yfinance\n",
            "  Building wheel for yfinance (setup.py) ... \u001b[?25l\u001b[?25hdone\n",
            "  Created wheel for yfinance: filename=yfinance-0.1.63-py2.py3-none-any.whl size=23918 sha256=90517c3028b08f162798597d4a686a6df99fa46ea888004c69c79bd0b57145e4\n",
            "  Stored in directory: /root/.cache/pip/wheels/fe/87/8b/7ec24486e001d3926537f5f7801f57a74d181be25b11157983\n",
            "Successfully built yfinance\n",
            "Installing collected packages: lxml, yfinance\n",
            "  Attempting uninstall: lxml\n",
            "    Found existing installation: lxml 4.2.6\n",
            "    Uninstalling lxml-4.2.6:\n",
            "      Successfully uninstalled lxml-4.2.6\n",
            "Successfully installed lxml-4.6.3 yfinance-0.1.63\n"
          ]
        }
      ]
    },
    {
      "cell_type": "code",
      "metadata": {
        "id": "trcoyCPeaLoh"
      },
      "source": [
        "import yfinance as yfin"
      ],
      "execution_count": null,
      "outputs": []
    },
    {
      "cell_type": "code",
      "metadata": {
        "colab": {
          "base_uri": "https://localhost:8080/",
          "height": 467
        },
        "id": "BFfct0RpaLif",
        "outputId": "7f91f864-45ae-437c-ddec-776888e6eded"
      },
      "source": [
        "mkt = yfin.download('^GSPC', start='2016-01-01', end='2021-01-01')\n",
        "mkt"
      ],
      "execution_count": null,
      "outputs": [
        {
          "output_type": "stream",
          "name": "stdout",
          "text": [
            "\r[*********************100%***********************]  1 of 1 completed\n"
          ]
        },
        {
          "output_type": "execute_result",
          "data": {
            "text/html": [
              "<div>\n",
              "<style scoped>\n",
              "    .dataframe tbody tr th:only-of-type {\n",
              "        vertical-align: middle;\n",
              "    }\n",
              "\n",
              "    .dataframe tbody tr th {\n",
              "        vertical-align: top;\n",
              "    }\n",
              "\n",
              "    .dataframe thead th {\n",
              "        text-align: right;\n",
              "    }\n",
              "</style>\n",
              "<table border=\"1\" class=\"dataframe\">\n",
              "  <thead>\n",
              "    <tr style=\"text-align: right;\">\n",
              "      <th></th>\n",
              "      <th>Open</th>\n",
              "      <th>High</th>\n",
              "      <th>Low</th>\n",
              "      <th>Close</th>\n",
              "      <th>Adj Close</th>\n",
              "      <th>Volume</th>\n",
              "    </tr>\n",
              "    <tr>\n",
              "      <th>Date</th>\n",
              "      <th></th>\n",
              "      <th></th>\n",
              "      <th></th>\n",
              "      <th></th>\n",
              "      <th></th>\n",
              "      <th></th>\n",
              "    </tr>\n",
              "  </thead>\n",
              "  <tbody>\n",
              "    <tr>\n",
              "      <th>2016-01-04</th>\n",
              "      <td>2038.199951</td>\n",
              "      <td>2038.199951</td>\n",
              "      <td>1989.680054</td>\n",
              "      <td>2012.660034</td>\n",
              "      <td>2012.660034</td>\n",
              "      <td>4304880000</td>\n",
              "    </tr>\n",
              "    <tr>\n",
              "      <th>2016-01-05</th>\n",
              "      <td>2013.780029</td>\n",
              "      <td>2021.939941</td>\n",
              "      <td>2004.170044</td>\n",
              "      <td>2016.709961</td>\n",
              "      <td>2016.709961</td>\n",
              "      <td>3706620000</td>\n",
              "    </tr>\n",
              "    <tr>\n",
              "      <th>2016-01-06</th>\n",
              "      <td>2011.709961</td>\n",
              "      <td>2011.709961</td>\n",
              "      <td>1979.050049</td>\n",
              "      <td>1990.260010</td>\n",
              "      <td>1990.260010</td>\n",
              "      <td>4336660000</td>\n",
              "    </tr>\n",
              "    <tr>\n",
              "      <th>2016-01-07</th>\n",
              "      <td>1985.319946</td>\n",
              "      <td>1985.319946</td>\n",
              "      <td>1938.829956</td>\n",
              "      <td>1943.089966</td>\n",
              "      <td>1943.089966</td>\n",
              "      <td>5076590000</td>\n",
              "    </tr>\n",
              "    <tr>\n",
              "      <th>2016-01-08</th>\n",
              "      <td>1945.969971</td>\n",
              "      <td>1960.400024</td>\n",
              "      <td>1918.459961</td>\n",
              "      <td>1922.030029</td>\n",
              "      <td>1922.030029</td>\n",
              "      <td>4664940000</td>\n",
              "    </tr>\n",
              "    <tr>\n",
              "      <th>...</th>\n",
              "      <td>...</td>\n",
              "      <td>...</td>\n",
              "      <td>...</td>\n",
              "      <td>...</td>\n",
              "      <td>...</td>\n",
              "      <td>...</td>\n",
              "    </tr>\n",
              "    <tr>\n",
              "      <th>2020-12-24</th>\n",
              "      <td>3694.030029</td>\n",
              "      <td>3703.820068</td>\n",
              "      <td>3689.320068</td>\n",
              "      <td>3703.060059</td>\n",
              "      <td>3703.060059</td>\n",
              "      <td>1885090000</td>\n",
              "    </tr>\n",
              "    <tr>\n",
              "      <th>2020-12-28</th>\n",
              "      <td>3723.030029</td>\n",
              "      <td>3740.510010</td>\n",
              "      <td>3723.030029</td>\n",
              "      <td>3735.360107</td>\n",
              "      <td>3735.360107</td>\n",
              "      <td>3527460000</td>\n",
              "    </tr>\n",
              "    <tr>\n",
              "      <th>2020-12-29</th>\n",
              "      <td>3750.010010</td>\n",
              "      <td>3756.120117</td>\n",
              "      <td>3723.310059</td>\n",
              "      <td>3727.040039</td>\n",
              "      <td>3727.040039</td>\n",
              "      <td>3387030000</td>\n",
              "    </tr>\n",
              "    <tr>\n",
              "      <th>2020-12-30</th>\n",
              "      <td>3736.189941</td>\n",
              "      <td>3744.629883</td>\n",
              "      <td>3730.209961</td>\n",
              "      <td>3732.040039</td>\n",
              "      <td>3732.040039</td>\n",
              "      <td>3145200000</td>\n",
              "    </tr>\n",
              "    <tr>\n",
              "      <th>2020-12-31</th>\n",
              "      <td>3733.270020</td>\n",
              "      <td>3760.199951</td>\n",
              "      <td>3726.879883</td>\n",
              "      <td>3756.070068</td>\n",
              "      <td>3756.070068</td>\n",
              "      <td>3172510000</td>\n",
              "    </tr>\n",
              "  </tbody>\n",
              "</table>\n",
              "<p>1259 rows × 6 columns</p>\n",
              "</div>"
            ],
            "text/plain": [
              "                   Open         High  ...    Adj Close      Volume\n",
              "Date                                  ...                         \n",
              "2016-01-04  2038.199951  2038.199951  ...  2012.660034  4304880000\n",
              "2016-01-05  2013.780029  2021.939941  ...  2016.709961  3706620000\n",
              "2016-01-06  2011.709961  2011.709961  ...  1990.260010  4336660000\n",
              "2016-01-07  1985.319946  1985.319946  ...  1943.089966  5076590000\n",
              "2016-01-08  1945.969971  1960.400024  ...  1922.030029  4664940000\n",
              "...                 ...          ...  ...          ...         ...\n",
              "2020-12-24  3694.030029  3703.820068  ...  3703.060059  1885090000\n",
              "2020-12-28  3723.030029  3740.510010  ...  3735.360107  3527460000\n",
              "2020-12-29  3750.010010  3756.120117  ...  3727.040039  3387030000\n",
              "2020-12-30  3736.189941  3744.629883  ...  3732.040039  3145200000\n",
              "2020-12-31  3733.270020  3760.199951  ...  3756.070068  3172510000\n",
              "\n",
              "[1259 rows x 6 columns]"
            ]
          },
          "metadata": {},
          "execution_count": 13
        }
      ]
    },
    {
      "cell_type": "code",
      "metadata": {
        "colab": {
          "base_uri": "https://localhost:8080/",
          "height": 450
        },
        "id": "Eu10Ha0eaLgY",
        "outputId": "c857e44b-87fa-42db-92ec-aaaf164be8cc"
      },
      "source": [
        "mkt['Close_100'] = (100/mkt['Close'][0])*mkt['Close']\n",
        "mkt"
      ],
      "execution_count": null,
      "outputs": [
        {
          "output_type": "execute_result",
          "data": {
            "text/html": [
              "<div>\n",
              "<style scoped>\n",
              "    .dataframe tbody tr th:only-of-type {\n",
              "        vertical-align: middle;\n",
              "    }\n",
              "\n",
              "    .dataframe tbody tr th {\n",
              "        vertical-align: top;\n",
              "    }\n",
              "\n",
              "    .dataframe thead th {\n",
              "        text-align: right;\n",
              "    }\n",
              "</style>\n",
              "<table border=\"1\" class=\"dataframe\">\n",
              "  <thead>\n",
              "    <tr style=\"text-align: right;\">\n",
              "      <th></th>\n",
              "      <th>Open</th>\n",
              "      <th>High</th>\n",
              "      <th>Low</th>\n",
              "      <th>Close</th>\n",
              "      <th>Adj Close</th>\n",
              "      <th>Volume</th>\n",
              "      <th>Close_100</th>\n",
              "    </tr>\n",
              "    <tr>\n",
              "      <th>Date</th>\n",
              "      <th></th>\n",
              "      <th></th>\n",
              "      <th></th>\n",
              "      <th></th>\n",
              "      <th></th>\n",
              "      <th></th>\n",
              "      <th></th>\n",
              "    </tr>\n",
              "  </thead>\n",
              "  <tbody>\n",
              "    <tr>\n",
              "      <th>2016-01-04</th>\n",
              "      <td>2038.199951</td>\n",
              "      <td>2038.199951</td>\n",
              "      <td>1989.680054</td>\n",
              "      <td>2012.660034</td>\n",
              "      <td>2012.660034</td>\n",
              "      <td>4304880000</td>\n",
              "      <td>100.000000</td>\n",
              "    </tr>\n",
              "    <tr>\n",
              "      <th>2016-01-05</th>\n",
              "      <td>2013.780029</td>\n",
              "      <td>2021.939941</td>\n",
              "      <td>2004.170044</td>\n",
              "      <td>2016.709961</td>\n",
              "      <td>2016.709961</td>\n",
              "      <td>3706620000</td>\n",
              "      <td>100.201223</td>\n",
              "    </tr>\n",
              "    <tr>\n",
              "      <th>2016-01-06</th>\n",
              "      <td>2011.709961</td>\n",
              "      <td>2011.709961</td>\n",
              "      <td>1979.050049</td>\n",
              "      <td>1990.260010</td>\n",
              "      <td>1990.260010</td>\n",
              "      <td>4336660000</td>\n",
              "      <td>98.887044</td>\n",
              "    </tr>\n",
              "    <tr>\n",
              "      <th>2016-01-07</th>\n",
              "      <td>1985.319946</td>\n",
              "      <td>1985.319946</td>\n",
              "      <td>1938.829956</td>\n",
              "      <td>1943.089966</td>\n",
              "      <td>1943.089966</td>\n",
              "      <td>5076590000</td>\n",
              "      <td>96.543377</td>\n",
              "    </tr>\n",
              "    <tr>\n",
              "      <th>2016-01-08</th>\n",
              "      <td>1945.969971</td>\n",
              "      <td>1960.400024</td>\n",
              "      <td>1918.459961</td>\n",
              "      <td>1922.030029</td>\n",
              "      <td>1922.030029</td>\n",
              "      <td>4664940000</td>\n",
              "      <td>95.497004</td>\n",
              "    </tr>\n",
              "    <tr>\n",
              "      <th>...</th>\n",
              "      <td>...</td>\n",
              "      <td>...</td>\n",
              "      <td>...</td>\n",
              "      <td>...</td>\n",
              "      <td>...</td>\n",
              "      <td>...</td>\n",
              "      <td>...</td>\n",
              "    </tr>\n",
              "    <tr>\n",
              "      <th>2020-12-24</th>\n",
              "      <td>3694.030029</td>\n",
              "      <td>3703.820068</td>\n",
              "      <td>3689.320068</td>\n",
              "      <td>3703.060059</td>\n",
              "      <td>3703.060059</td>\n",
              "      <td>1885090000</td>\n",
              "      <td>183.988354</td>\n",
              "    </tr>\n",
              "    <tr>\n",
              "      <th>2020-12-28</th>\n",
              "      <td>3723.030029</td>\n",
              "      <td>3740.510010</td>\n",
              "      <td>3723.030029</td>\n",
              "      <td>3735.360107</td>\n",
              "      <td>3735.360107</td>\n",
              "      <td>3527460000</td>\n",
              "      <td>185.593197</td>\n",
              "    </tr>\n",
              "    <tr>\n",
              "      <th>2020-12-29</th>\n",
              "      <td>3750.010010</td>\n",
              "      <td>3756.120117</td>\n",
              "      <td>3723.310059</td>\n",
              "      <td>3727.040039</td>\n",
              "      <td>3727.040039</td>\n",
              "      <td>3387030000</td>\n",
              "      <td>185.179811</td>\n",
              "    </tr>\n",
              "    <tr>\n",
              "      <th>2020-12-30</th>\n",
              "      <td>3736.189941</td>\n",
              "      <td>3744.629883</td>\n",
              "      <td>3730.209961</td>\n",
              "      <td>3732.040039</td>\n",
              "      <td>3732.040039</td>\n",
              "      <td>3145200000</td>\n",
              "      <td>185.428238</td>\n",
              "    </tr>\n",
              "    <tr>\n",
              "      <th>2020-12-31</th>\n",
              "      <td>3733.270020</td>\n",
              "      <td>3760.199951</td>\n",
              "      <td>3726.879883</td>\n",
              "      <td>3756.070068</td>\n",
              "      <td>3756.070068</td>\n",
              "      <td>3172510000</td>\n",
              "      <td>186.622182</td>\n",
              "    </tr>\n",
              "  </tbody>\n",
              "</table>\n",
              "<p>1259 rows × 7 columns</p>\n",
              "</div>"
            ],
            "text/plain": [
              "                   Open         High  ...      Volume   Close_100\n",
              "Date                                  ...                        \n",
              "2016-01-04  2038.199951  2038.199951  ...  4304880000  100.000000\n",
              "2016-01-05  2013.780029  2021.939941  ...  3706620000  100.201223\n",
              "2016-01-06  2011.709961  2011.709961  ...  4336660000   98.887044\n",
              "2016-01-07  1985.319946  1985.319946  ...  5076590000   96.543377\n",
              "2016-01-08  1945.969971  1960.400024  ...  4664940000   95.497004\n",
              "...                 ...          ...  ...         ...         ...\n",
              "2020-12-24  3694.030029  3703.820068  ...  1885090000  183.988354\n",
              "2020-12-28  3723.030029  3740.510010  ...  3527460000  185.593197\n",
              "2020-12-29  3750.010010  3756.120117  ...  3387030000  185.179811\n",
              "2020-12-30  3736.189941  3744.629883  ...  3145200000  185.428238\n",
              "2020-12-31  3733.270020  3760.199951  ...  3172510000  186.622182\n",
              "\n",
              "[1259 rows x 7 columns]"
            ]
          },
          "metadata": {},
          "execution_count": 14
        }
      ]
    },
    {
      "cell_type": "code",
      "metadata": {
        "colab": {
          "base_uri": "https://localhost:8080/",
          "height": 454
        },
        "id": "QcPVCBSUbZCj",
        "outputId": "1055ec0b-b89e-42d5-ac0f-bc50eb81f202"
      },
      "source": [
        "# Comparación de la estrategia con el portafolio de mercado\n",
        "plt.figure(figsize=(16,8))\n",
        "plt.plot(df['Equity'], color = 'green', label = 'Estrategia de trading')\n",
        "plt.plot(mkt['Close_100'], color = 'red', label = 'Portafolio de mercado')\n",
        "\n",
        "plt.title('Comparación de la estrategia con el portafolio de mercado')\n",
        "plt.xlabel('Fecha')\n",
        "plt.ylabel('Index (100)')\n",
        "plt.legend(loc='lower right')\n",
        "plt.show()"
      ],
      "execution_count": null,
      "outputs": [
        {
          "output_type": "display_data",
          "data": {
            "image/png": "[encoded data removed]",
            "text/plain": [
              "<Figure size 1152x576 with 1 Axes>"
            ]
          },
          "metadata": {
            "needs_background": "light"
          }
        }
      ]
    },
    {
      "cell_type": "code",
      "metadata": {
        "colab": {
          "base_uri": "https://localhost:8080/"
        },
        "id": "IOPBWPCGc6aL",
        "outputId": "68457400-d12c-4a17-d0c6-b015c0bc0573"
      },
      "source": [
        "# Desempeño de la estrategia planteada\n",
        "df['Log Returns'] = np.log(df['Equity']).diff()\n",
        "\n",
        "ret = 252*df['Log Returns'].mean()\n",
        "print('Retorno esperado anulizado: {:.4f}'.format(ret))\n",
        "\n",
        "vol = np.sqrt(252)*df['Log Returns'].std()\n",
        "print('Volatilidad anulizada: {:.4f}'.format(vol))\n",
        "\n",
        "sharpe_ratio = (ret - 0.01)/vol\n",
        "print('Sharpe Ratio: {:.4f}'.format(sharpe_ratio))"
      ],
      "execution_count": null,
      "outputs": [
        {
          "output_type": "stream",
          "name": "stdout",
          "text": [
            "Retorno esperado anulizado: 0.0394\n",
            "Volatilidad anulizada: 0.0651\n",
            "Sharpe Ratio: 0.4520\n"
          ]
        }
      ]
    },
    {
      "cell_type": "code",
      "metadata": {
        "colab": {
          "base_uri": "https://localhost:8080/"
        },
        "id": "taXd72Ghc6Pt",
        "outputId": "de73901c-fe94-4e1d-c9b1-331e8dd4fc6d"
      },
      "source": [
        "# Desempeño del portafolio de mercado\n",
        "mkt['Log Returns'] = np.log(mkt['Close']).diff()\n",
        "\n",
        "ret = 252*mkt['Log Returns'].mean()\n",
        "print('Retorno esperado anulizado: {:.4f}'.format(ret))\n",
        "\n",
        "vol = np.sqrt(252)*mkt['Log Returns'].std()\n",
        "print('Volatilidad anulizada: {:.4f}'.format(vol))\n",
        "\n",
        "sharpe_ratio = (ret - 0.01)/vol\n",
        "print('Sharpe Ratio: {:.4f}'.format(sharpe_ratio))"
      ],
      "execution_count": null,
      "outputs": [
        {
          "output_type": "stream",
          "name": "stdout",
          "text": [
            "Retorno esperado anulizado: 0.1250\n",
            "Volatilidad anulizada: 0.1933\n",
            "Sharpe Ratio: 0.5948\n"
          ]
        }
      ]
    }
  ]
}