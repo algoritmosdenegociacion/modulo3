{
  "nbformat": 4,
  "nbformat_minor": 0,
  "metadata": {
    "colab": {
      "name": "M3-L2-S1.ipynb",
      "provenance": [],
      "include_colab_link": true
    },
    "kernelspec": {
      "name": "python3",
      "display_name": "Python 3"
    },
    "language_info": {
      "name": "python"
    }
  },
  "cells": [
    {
      "cell_type": "markdown",
      "metadata": {
        "id": "view-in-github",
        "colab_type": "text"
      },
      "source": [
        "<a href=\"https://colab.research.google.com/github/algoritmosdenegociacion/modulo3/blob/main/M3_L2_S1.ipynb\" target=\"_parent\"><img src=\"https://colab.research.google.com/assets/colab-badge.svg\" alt=\"Open In Colab\"/></a>"
      ]
    },
    {
      "cell_type": "markdown",
      "metadata": {
        "id": "HDMUuXGmB_q1"
      },
      "source": [
        "# Algoritmos de Negociación basados en Machine Learning - Módulo 3\n",
        "- Sergio Andrés Cabrales, Ph.D., Universidad de los Andes \n",
        "- Juan Pablo Cortés, T.A., Universidad de los Andes\n",
        "- Juan David Pava\n",
        "\n",
        "https://github.com/algoritmosdenegociacion/"
      ]
    },
    {
      "cell_type": "markdown",
      "metadata": {
        "id": "CSr9zTNECaPv"
      },
      "source": [
        "## 1. Carga de librerías, funciones y APIs necesarias.\n"
      ]
    },
    {
      "cell_type": "markdown",
      "metadata": {
        "id": "6zaoGOtoCjPq"
      },
      "source": [
        "#### 1.1. Se cargan las librerías necesarias"
      ]
    },
    {
      "cell_type": "code",
      "metadata": {
        "id": "cVO4GoZZCgc8"
      },
      "source": [
        "# Funciones numéricas adicionales\n",
        "import numpy as np\n",
        "\n",
        "# Lectura de datos y manejo de Data-sets\n",
        "import pandas as pd\n",
        "\n",
        "# Gráficos \n",
        "import matplotlib.pyplot as plt"
      ],
      "execution_count": null,
      "outputs": []
    },
    {
      "cell_type": "markdown",
      "metadata": {
        "id": "xLSEaV4vCacK"
      },
      "source": [
        "## 2. Obtención de datos históricos\n"
      ]
    },
    {
      "cell_type": "markdown",
      "metadata": {
        "id": "MwlYyvstUo32"
      },
      "source": [
        "#### 2.1. Se cargan los datos - FRED\n"
      ]
    },
    {
      "cell_type": "code",
      "metadata": {
        "colab": {
          "base_uri": "https://localhost:8080/"
        },
        "id": "7UwZP45athRt",
        "outputId": "b2aef14a-a8b4-4178-a36d-48d6e6637cef"
      },
      "source": [
        "pip install yfinance"
      ],
      "execution_count": null,
      "outputs": [
        {
          "output_type": "stream",
          "name": "stdout",
          "text": [
            "Collecting yfinance\n",
            "  Downloading yfinance-0.1.63.tar.gz (26 kB)\n",
            "Requirement already satisfied: pandas>=0.24 in /usr/local/lib/python3.7/dist-packages (from yfinance) (1.1.5)\n",
            "Requirement already satisfied: numpy>=1.15 in /usr/local/lib/python3.7/dist-packages (from yfinance) (1.19.5)\n",
            "Requirement already satisfied: requests>=2.20 in /usr/local/lib/python3.7/dist-packages (from yfinance) (2.23.0)\n",
            "Requirement already satisfied: multitasking>=0.0.7 in /usr/local/lib/python3.7/dist-packages (from yfinance) (0.0.9)\n",
            "Collecting lxml>=4.5.1\n",
            "  Downloading lxml-4.6.3-cp37-cp37m-manylinux2014_x86_64.whl (6.3 MB)\n",
            "\u001b[K     |████████████████████████████████| 6.3 MB 7.8 MB/s \n",
            "\u001b[?25hRequirement already satisfied: python-dateutil>=2.7.3 in /usr/local/lib/python3.7/dist-packages (from pandas>=0.24->yfinance) (2.8.2)\n",
            "Requirement already satisfied: pytz>=2017.2 in /usr/local/lib/python3.7/dist-packages (from pandas>=0.24->yfinance) (2018.9)\n",
            "Requirement already satisfied: six>=1.5 in /usr/local/lib/python3.7/dist-packages (from python-dateutil>=2.7.3->pandas>=0.24->yfinance) (1.15.0)\n",
            "Requirement already satisfied: certifi>=2017.4.17 in /usr/local/lib/python3.7/dist-packages (from requests>=2.20->yfinance) (2021.5.30)\n",
            "Requirement already satisfied: idna<3,>=2.5 in /usr/local/lib/python3.7/dist-packages (from requests>=2.20->yfinance) (2.10)\n",
            "Requirement already satisfied: chardet<4,>=3.0.2 in /usr/local/lib/python3.7/dist-packages (from requests>=2.20->yfinance) (3.0.4)\n",
            "Requirement already satisfied: urllib3!=1.25.0,!=1.25.1,<1.26,>=1.21.1 in /usr/local/lib/python3.7/dist-packages (from requests>=2.20->yfinance) (1.24.3)\n",
            "Building wheels for collected packages: yfinance\n",
            "  Building wheel for yfinance (setup.py) ... \u001b[?25l\u001b[?25hdone\n",
            "  Created wheel for yfinance: filename=yfinance-0.1.63-py2.py3-none-any.whl size=23918 sha256=f76d584f730f4897b2831c94d97cbd7d950c313ce5536055ec3933768749f23d\n",
            "  Stored in directory: /root/.cache/pip/wheels/fe/87/8b/7ec24486e001d3926537f5f7801f57a74d181be25b11157983\n",
            "Successfully built yfinance\n",
            "Installing collected packages: lxml, yfinance\n",
            "  Attempting uninstall: lxml\n",
            "    Found existing installation: lxml 4.2.6\n",
            "    Uninstalling lxml-4.2.6:\n",
            "      Successfully uninstalled lxml-4.2.6\n",
            "Successfully installed lxml-4.6.3 yfinance-0.1.63\n"
          ]
        }
      ]
    },
    {
      "cell_type": "code",
      "metadata": {
        "id": "-QQfbsMyM7mS"
      },
      "source": [
        "# Importar datos de la FRED (Federal Reserve Economic Data) - Federal Reserve Bank of St. Louis\n",
        "import yfinance as yfin"
      ],
      "execution_count": null,
      "outputs": []
    },
    {
      "cell_type": "markdown",
      "metadata": {
        "id": "1u8V8323CacL"
      },
      "source": [
        "https://fred.stlouisfed.org/"
      ]
    },
    {
      "cell_type": "code",
      "metadata": {
        "colab": {
          "base_uri": "https://localhost:8080/",
          "height": 1000
        },
        "id": "dzncNzy8CacL",
        "outputId": "16d7eb75-f97b-4d4a-fd16-0ced3670399c"
      },
      "source": [
        "# Descargamos datos de petróleo referencia BRENT\n",
        "# BRENT es DCOILBRENTEU\n",
        "# WTI es DCOILWTICO\n",
        "df = yfin.download('ITCB',start='2021-03-9', end='2021-04-25')\n",
        "df"
      ],
      "execution_count": null,
      "outputs": [
        {
          "output_type": "stream",
          "name": "stdout",
          "text": [
            "\r[*********************100%***********************]  1 of 1 completed\n"
          ]
        },
        {
          "output_type": "execute_result",
          "data": {
            "text/html": [
              "<div>\n",
              "<style scoped>\n",
              "    .dataframe tbody tr th:only-of-type {\n",
              "        vertical-align: middle;\n",
              "    }\n",
              "\n",
              "    .dataframe tbody tr th {\n",
              "        vertical-align: top;\n",
              "    }\n",
              "\n",
              "    .dataframe thead th {\n",
              "        text-align: right;\n",
              "    }\n",
              "</style>\n",
              "<table border=\"1\" class=\"dataframe\">\n",
              "  <thead>\n",
              "    <tr style=\"text-align: right;\">\n",
              "      <th></th>\n",
              "      <th>Open</th>\n",
              "      <th>High</th>\n",
              "      <th>Low</th>\n",
              "      <th>Close</th>\n",
              "      <th>Adj Close</th>\n",
              "      <th>Volume</th>\n",
              "    </tr>\n",
              "    <tr>\n",
              "      <th>Date</th>\n",
              "      <th></th>\n",
              "      <th></th>\n",
              "      <th></th>\n",
              "      <th></th>\n",
              "      <th></th>\n",
              "      <th></th>\n",
              "    </tr>\n",
              "  </thead>\n",
              "  <tbody>\n",
              "    <tr>\n",
              "      <th>2021-03-09</th>\n",
              "      <td>5.18</td>\n",
              "      <td>5.20</td>\n",
              "      <td>5.11</td>\n",
              "      <td>5.17</td>\n",
              "      <td>5.17</td>\n",
              "      <td>105300</td>\n",
              "    </tr>\n",
              "    <tr>\n",
              "      <th>2021-03-10</th>\n",
              "      <td>5.27</td>\n",
              "      <td>5.41</td>\n",
              "      <td>5.26</td>\n",
              "      <td>5.41</td>\n",
              "      <td>5.41</td>\n",
              "      <td>23500</td>\n",
              "    </tr>\n",
              "    <tr>\n",
              "      <th>2021-03-11</th>\n",
              "      <td>5.51</td>\n",
              "      <td>5.83</td>\n",
              "      <td>5.51</td>\n",
              "      <td>5.83</td>\n",
              "      <td>5.83</td>\n",
              "      <td>68400</td>\n",
              "    </tr>\n",
              "    <tr>\n",
              "      <th>2021-03-12</th>\n",
              "      <td>5.86</td>\n",
              "      <td>5.95</td>\n",
              "      <td>5.75</td>\n",
              "      <td>5.82</td>\n",
              "      <td>5.82</td>\n",
              "      <td>32700</td>\n",
              "    </tr>\n",
              "    <tr>\n",
              "      <th>2021-03-15</th>\n",
              "      <td>6.06</td>\n",
              "      <td>6.15</td>\n",
              "      <td>5.99</td>\n",
              "      <td>6.12</td>\n",
              "      <td>6.12</td>\n",
              "      <td>42000</td>\n",
              "    </tr>\n",
              "    <tr>\n",
              "      <th>2021-03-16</th>\n",
              "      <td>6.09</td>\n",
              "      <td>6.14</td>\n",
              "      <td>5.96</td>\n",
              "      <td>6.14</td>\n",
              "      <td>6.14</td>\n",
              "      <td>76300</td>\n",
              "    </tr>\n",
              "    <tr>\n",
              "      <th>2021-03-17</th>\n",
              "      <td>6.00</td>\n",
              "      <td>6.09</td>\n",
              "      <td>5.90</td>\n",
              "      <td>5.98</td>\n",
              "      <td>5.98</td>\n",
              "      <td>39000</td>\n",
              "    </tr>\n",
              "    <tr>\n",
              "      <th>2021-03-18</th>\n",
              "      <td>6.03</td>\n",
              "      <td>6.10</td>\n",
              "      <td>5.93</td>\n",
              "      <td>5.96</td>\n",
              "      <td>5.96</td>\n",
              "      <td>56200</td>\n",
              "    </tr>\n",
              "    <tr>\n",
              "      <th>2021-03-19</th>\n",
              "      <td>5.88</td>\n",
              "      <td>5.89</td>\n",
              "      <td>5.55</td>\n",
              "      <td>5.86</td>\n",
              "      <td>5.86</td>\n",
              "      <td>74200</td>\n",
              "    </tr>\n",
              "    <tr>\n",
              "      <th>2021-03-22</th>\n",
              "      <td>5.82</td>\n",
              "      <td>5.82</td>\n",
              "      <td>5.65</td>\n",
              "      <td>5.78</td>\n",
              "      <td>5.78</td>\n",
              "      <td>47800</td>\n",
              "    </tr>\n",
              "    <tr>\n",
              "      <th>2021-03-23</th>\n",
              "      <td>5.75</td>\n",
              "      <td>5.82</td>\n",
              "      <td>5.65</td>\n",
              "      <td>5.67</td>\n",
              "      <td>5.67</td>\n",
              "      <td>9600</td>\n",
              "    </tr>\n",
              "    <tr>\n",
              "      <th>2021-03-24</th>\n",
              "      <td>5.74</td>\n",
              "      <td>5.74</td>\n",
              "      <td>5.52</td>\n",
              "      <td>5.56</td>\n",
              "      <td>5.56</td>\n",
              "      <td>5000</td>\n",
              "    </tr>\n",
              "    <tr>\n",
              "      <th>2021-03-25</th>\n",
              "      <td>5.52</td>\n",
              "      <td>5.60</td>\n",
              "      <td>5.39</td>\n",
              "      <td>5.43</td>\n",
              "      <td>5.43</td>\n",
              "      <td>58900</td>\n",
              "    </tr>\n",
              "    <tr>\n",
              "      <th>2021-03-26</th>\n",
              "      <td>5.48</td>\n",
              "      <td>5.54</td>\n",
              "      <td>5.38</td>\n",
              "      <td>5.38</td>\n",
              "      <td>5.38</td>\n",
              "      <td>2200</td>\n",
              "    </tr>\n",
              "    <tr>\n",
              "      <th>2021-03-29</th>\n",
              "      <td>5.50</td>\n",
              "      <td>5.86</td>\n",
              "      <td>5.49</td>\n",
              "      <td>5.85</td>\n",
              "      <td>5.85</td>\n",
              "      <td>42600</td>\n",
              "    </tr>\n",
              "    <tr>\n",
              "      <th>2021-03-30</th>\n",
              "      <td>5.80</td>\n",
              "      <td>5.90</td>\n",
              "      <td>5.69</td>\n",
              "      <td>5.72</td>\n",
              "      <td>5.72</td>\n",
              "      <td>47900</td>\n",
              "    </tr>\n",
              "    <tr>\n",
              "      <th>2021-03-31</th>\n",
              "      <td>5.87</td>\n",
              "      <td>5.89</td>\n",
              "      <td>5.73</td>\n",
              "      <td>5.86</td>\n",
              "      <td>5.86</td>\n",
              "      <td>14200</td>\n",
              "    </tr>\n",
              "    <tr>\n",
              "      <th>2021-04-01</th>\n",
              "      <td>5.82</td>\n",
              "      <td>5.84</td>\n",
              "      <td>5.75</td>\n",
              "      <td>5.80</td>\n",
              "      <td>5.80</td>\n",
              "      <td>27900</td>\n",
              "    </tr>\n",
              "    <tr>\n",
              "      <th>2021-04-05</th>\n",
              "      <td>5.77</td>\n",
              "      <td>5.79</td>\n",
              "      <td>5.66</td>\n",
              "      <td>5.78</td>\n",
              "      <td>5.78</td>\n",
              "      <td>28100</td>\n",
              "    </tr>\n",
              "    <tr>\n",
              "      <th>2021-04-06</th>\n",
              "      <td>5.78</td>\n",
              "      <td>5.86</td>\n",
              "      <td>5.70</td>\n",
              "      <td>5.76</td>\n",
              "      <td>5.76</td>\n",
              "      <td>14600</td>\n",
              "    </tr>\n",
              "    <tr>\n",
              "      <th>2021-04-07</th>\n",
              "      <td>5.73</td>\n",
              "      <td>5.76</td>\n",
              "      <td>5.65</td>\n",
              "      <td>5.70</td>\n",
              "      <td>5.70</td>\n",
              "      <td>9500</td>\n",
              "    </tr>\n",
              "    <tr>\n",
              "      <th>2021-04-08</th>\n",
              "      <td>5.58</td>\n",
              "      <td>5.80</td>\n",
              "      <td>5.50</td>\n",
              "      <td>5.69</td>\n",
              "      <td>5.69</td>\n",
              "      <td>27300</td>\n",
              "    </tr>\n",
              "    <tr>\n",
              "      <th>2021-04-09</th>\n",
              "      <td>5.72</td>\n",
              "      <td>5.77</td>\n",
              "      <td>5.61</td>\n",
              "      <td>5.61</td>\n",
              "      <td>5.61</td>\n",
              "      <td>17200</td>\n",
              "    </tr>\n",
              "    <tr>\n",
              "      <th>2021-04-12</th>\n",
              "      <td>5.60</td>\n",
              "      <td>5.80</td>\n",
              "      <td>5.59</td>\n",
              "      <td>5.78</td>\n",
              "      <td>5.78</td>\n",
              "      <td>7000</td>\n",
              "    </tr>\n",
              "    <tr>\n",
              "      <th>2021-04-13</th>\n",
              "      <td>5.76</td>\n",
              "      <td>5.81</td>\n",
              "      <td>5.62</td>\n",
              "      <td>5.81</td>\n",
              "      <td>5.81</td>\n",
              "      <td>82200</td>\n",
              "    </tr>\n",
              "    <tr>\n",
              "      <th>2021-04-14</th>\n",
              "      <td>5.81</td>\n",
              "      <td>5.99</td>\n",
              "      <td>5.80</td>\n",
              "      <td>5.98</td>\n",
              "      <td>5.98</td>\n",
              "      <td>9400</td>\n",
              "    </tr>\n",
              "    <tr>\n",
              "      <th>2021-04-15</th>\n",
              "      <td>5.89</td>\n",
              "      <td>5.96</td>\n",
              "      <td>5.85</td>\n",
              "      <td>5.94</td>\n",
              "      <td>5.94</td>\n",
              "      <td>8500</td>\n",
              "    </tr>\n",
              "    <tr>\n",
              "      <th>2021-04-16</th>\n",
              "      <td>5.92</td>\n",
              "      <td>6.03</td>\n",
              "      <td>5.84</td>\n",
              "      <td>6.03</td>\n",
              "      <td>6.03</td>\n",
              "      <td>23100</td>\n",
              "    </tr>\n",
              "    <tr>\n",
              "      <th>2021-04-19</th>\n",
              "      <td>6.02</td>\n",
              "      <td>6.03</td>\n",
              "      <td>6.01</td>\n",
              "      <td>6.03</td>\n",
              "      <td>6.03</td>\n",
              "      <td>9200</td>\n",
              "    </tr>\n",
              "    <tr>\n",
              "      <th>2021-04-20</th>\n",
              "      <td>6.00</td>\n",
              "      <td>6.19</td>\n",
              "      <td>5.96</td>\n",
              "      <td>6.19</td>\n",
              "      <td>6.19</td>\n",
              "      <td>56900</td>\n",
              "    </tr>\n",
              "    <tr>\n",
              "      <th>2021-04-21</th>\n",
              "      <td>6.18</td>\n",
              "      <td>6.23</td>\n",
              "      <td>6.15</td>\n",
              "      <td>6.22</td>\n",
              "      <td>6.22</td>\n",
              "      <td>34300</td>\n",
              "    </tr>\n",
              "    <tr>\n",
              "      <th>2021-04-22</th>\n",
              "      <td>6.16</td>\n",
              "      <td>6.19</td>\n",
              "      <td>5.97</td>\n",
              "      <td>6.10</td>\n",
              "      <td>6.10</td>\n",
              "      <td>47300</td>\n",
              "    </tr>\n",
              "    <tr>\n",
              "      <th>2021-04-23</th>\n",
              "      <td>6.17</td>\n",
              "      <td>6.17</td>\n",
              "      <td>5.90</td>\n",
              "      <td>5.90</td>\n",
              "      <td>5.90</td>\n",
              "      <td>100200</td>\n",
              "    </tr>\n",
              "  </tbody>\n",
              "</table>\n",
              "</div>"
            ],
            "text/plain": [
              "            Open  High   Low  Close  Adj Close  Volume\n",
              "Date                                                  \n",
              "2021-03-09  5.18  5.20  5.11   5.17       5.17  105300\n",
              "2021-03-10  5.27  5.41  5.26   5.41       5.41   23500\n",
              "2021-03-11  5.51  5.83  5.51   5.83       5.83   68400\n",
              "2021-03-12  5.86  5.95  5.75   5.82       5.82   32700\n",
              "2021-03-15  6.06  6.15  5.99   6.12       6.12   42000\n",
              "2021-03-16  6.09  6.14  5.96   6.14       6.14   76300\n",
              "2021-03-17  6.00  6.09  5.90   5.98       5.98   39000\n",
              "2021-03-18  6.03  6.10  5.93   5.96       5.96   56200\n",
              "2021-03-19  5.88  5.89  5.55   5.86       5.86   74200\n",
              "2021-03-22  5.82  5.82  5.65   5.78       5.78   47800\n",
              "2021-03-23  5.75  5.82  5.65   5.67       5.67    9600\n",
              "2021-03-24  5.74  5.74  5.52   5.56       5.56    5000\n",
              "2021-03-25  5.52  5.60  5.39   5.43       5.43   58900\n",
              "2021-03-26  5.48  5.54  5.38   5.38       5.38    2200\n",
              "2021-03-29  5.50  5.86  5.49   5.85       5.85   42600\n",
              "2021-03-30  5.80  5.90  5.69   5.72       5.72   47900\n",
              "2021-03-31  5.87  5.89  5.73   5.86       5.86   14200\n",
              "2021-04-01  5.82  5.84  5.75   5.80       5.80   27900\n",
              "2021-04-05  5.77  5.79  5.66   5.78       5.78   28100\n",
              "2021-04-06  5.78  5.86  5.70   5.76       5.76   14600\n",
              "2021-04-07  5.73  5.76  5.65   5.70       5.70    9500\n",
              "2021-04-08  5.58  5.80  5.50   5.69       5.69   27300\n",
              "2021-04-09  5.72  5.77  5.61   5.61       5.61   17200\n",
              "2021-04-12  5.60  5.80  5.59   5.78       5.78    7000\n",
              "2021-04-13  5.76  5.81  5.62   5.81       5.81   82200\n",
              "2021-04-14  5.81  5.99  5.80   5.98       5.98    9400\n",
              "2021-04-15  5.89  5.96  5.85   5.94       5.94    8500\n",
              "2021-04-16  5.92  6.03  5.84   6.03       6.03   23100\n",
              "2021-04-19  6.02  6.03  6.01   6.03       6.03    9200\n",
              "2021-04-20  6.00  6.19  5.96   6.19       6.19   56900\n",
              "2021-04-21  6.18  6.23  6.15   6.22       6.22   34300\n",
              "2021-04-22  6.16  6.19  5.97   6.10       6.10   47300\n",
              "2021-04-23  6.17  6.17  5.90   5.90       5.90  100200"
            ]
          },
          "metadata": {},
          "execution_count": 9
        }
      ]
    },
    {
      "cell_type": "code",
      "metadata": {
        "colab": {
          "base_uri": "https://localhost:8080/"
        },
        "id": "pYuKn8RY2noS",
        "outputId": "715c0b85-2ba7-425e-9027-0ff5508eedbe"
      },
      "source": [
        "pip install mplfinance"
      ],
      "execution_count": null,
      "outputs": [
        {
          "output_type": "stream",
          "name": "stdout",
          "text": [
            "Collecting mplfinance\n",
            "  Downloading mplfinance-0.12.7a17-py3-none-any.whl (62 kB)\n",
            "\u001b[?25l\r\u001b[K     |█████▎                          | 10 kB 25.1 MB/s eta 0:00:01\r\u001b[K     |██████████▌                     | 20 kB 30.4 MB/s eta 0:00:01\r\u001b[K     |███████████████▊                | 30 kB 32.9 MB/s eta 0:00:01\r\u001b[K     |█████████████████████           | 40 kB 17.1 MB/s eta 0:00:01\r\u001b[K     |██████████████████████████▎     | 51 kB 5.7 MB/s eta 0:00:01\r\u001b[K     |███████████████████████████████▌| 61 kB 5.7 MB/s eta 0:00:01\r\u001b[K     |████████████████████████████████| 62 kB 803 kB/s \n",
            "\u001b[?25hRequirement already satisfied: pandas in /usr/local/lib/python3.7/dist-packages (from mplfinance) (1.1.5)\n",
            "Requirement already satisfied: matplotlib in /usr/local/lib/python3.7/dist-packages (from mplfinance) (3.2.2)\n",
            "Requirement already satisfied: pyparsing!=2.0.4,!=2.1.2,!=2.1.6,>=2.0.1 in /usr/local/lib/python3.7/dist-packages (from matplotlib->mplfinance) (2.4.7)\n",
            "Requirement already satisfied: python-dateutil>=2.1 in /usr/local/lib/python3.7/dist-packages (from matplotlib->mplfinance) (2.8.2)\n",
            "Requirement already satisfied: kiwisolver>=1.0.1 in /usr/local/lib/python3.7/dist-packages (from matplotlib->mplfinance) (1.3.1)\n",
            "Requirement already satisfied: cycler>=0.10 in /usr/local/lib/python3.7/dist-packages (from matplotlib->mplfinance) (0.10.0)\n",
            "Requirement already satisfied: numpy>=1.11 in /usr/local/lib/python3.7/dist-packages (from matplotlib->mplfinance) (1.19.5)\n",
            "Requirement already satisfied: six in /usr/local/lib/python3.7/dist-packages (from cycler>=0.10->matplotlib->mplfinance) (1.15.0)\n",
            "Requirement already satisfied: pytz>=2017.2 in /usr/local/lib/python3.7/dist-packages (from pandas->mplfinance) (2018.9)\n",
            "Installing collected packages: mplfinance\n",
            "Successfully installed mplfinance-0.12.7a17\n"
          ]
        }
      ]
    },
    {
      "cell_type": "code",
      "metadata": {
        "id": "N85fug6ce7Zx"
      },
      "source": [
        "# Importar libreria de mplfinance\n",
        "import mplfinance as mpf"
      ],
      "execution_count": null,
      "outputs": []
    },
    {
      "cell_type": "code",
      "metadata": {
        "colab": {
          "base_uri": "https://localhost:8080/",
          "height": 560
        },
        "id": "WvxYBywqBkKb",
        "outputId": "c50760fe-2eeb-42b4-ba0d-01f5cd5df08b"
      },
      "source": [
        "mpf.plot(df,\n",
        "         type='candle',\n",
        "         volume=True,\n",
        "         figratio=(16,8),\n",
        "         style='yahoo',\n",
        "         title='ITCB')"
      ],
      "execution_count": null,
      "outputs": [
        {
          "output_type": "display_data",
          "data": {
            "image/png": "[encoded data removed]",
            "text/plain": [
              "<Figure size 1150x575 with 4 Axes>"
            ]
          },
          "metadata": {}
        }
      ]
    },
    {
      "cell_type": "code",
      "metadata": {
        "colab": {
          "base_uri": "https://localhost:8080/"
        },
        "id": "91g3t-12id4s",
        "outputId": "e0a35266-7801-4787-a370-09b06f113998"
      },
      "source": [
        "(df[\"2021-03-16\":\"2021-03-26\"][\"Close\"][0]-df[\"2021-03-16\":\"2021-03-26\"][\"Close\"][-1])/df[\"2021-03-16\":\"2021-03-26\"][\"Close\"][0]"
      ],
      "execution_count": null,
      "outputs": [
        {
          "output_type": "execute_result",
          "data": {
            "text/plain": [
              "0.12377846393662632"
            ]
          },
          "metadata": {},
          "execution_count": 18
        }
      ]
    },
    {
      "cell_type": "code",
      "metadata": {
        "id": "d3ZS6VD7_ay0"
      },
      "source": [
        ""
      ],
      "execution_count": null,
      "outputs": []
    }
  ]
}